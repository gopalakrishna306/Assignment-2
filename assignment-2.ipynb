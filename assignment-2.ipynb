{
 "cells": [
  {
   "cell_type": "markdown",
   "metadata": {},
   "source": [
    "# Task 1"
   ]
  },
  {
   "cell_type": "markdown",
   "metadata": {},
   "source": [
    "### 1.1  Write a Python Program to implement your own myreduce() function which works exactly like Python's  built-in function reduce() "
   ]
  },
  {
   "cell_type": "markdown",
   "metadata": {},
   "source": [
    "### myReduce()"
   ]
  },
  {
   "cell_type": "code",
   "execution_count": 66,
   "metadata": {},
   "outputs": [],
   "source": [
    "product = 1\n",
    "list = [1, 2, 3, 4]\n",
    "for num in list:\n",
    "    product = product * num"
   ]
  },
  {
   "cell_type": "code",
   "execution_count": 67,
   "metadata": {},
   "outputs": [
    {
     "name": "stdout",
     "output_type": "stream",
     "text": [
      "24\n"
     ]
    }
   ],
   "source": [
    "print(product)"
   ]
  },
  {
   "cell_type": "code",
   "execution_count": null,
   "metadata": {},
   "outputs": [],
   "source": []
  },
  {
   "cell_type": "markdown",
   "metadata": {},
   "source": [
    "### 1.2  Write a Python program to implement your own myfilter() function which works exactly like Python's built-in function filter()  "
   ]
  },
  {
   "cell_type": "code",
   "execution_count": 68,
   "metadata": {},
   "outputs": [],
   "source": [
    "list1=[]\n",
    "list2=[]\n",
    "def myfilter(seq):\n",
    "    for x in seq:\n",
    "        if x > 5:\n",
    "            list1.append(x) # which is greater then 5 iam adding to list1\n",
    "        else:\n",
    "            list2.append(x) #which is less then 5 iam adding to list2"
   ]
  },
  {
   "cell_type": "code",
   "execution_count": 69,
   "metadata": {},
   "outputs": [],
   "source": [
    "seq=[1,2,3,4,5,6,7,8,9,10]\n",
    "myfilter(seq)"
   ]
  },
  {
   "cell_type": "code",
   "execution_count": 70,
   "metadata": {},
   "outputs": [
    {
     "name": "stdout",
     "output_type": "stream",
     "text": [
      "[6, 7, 8, 9, 10]\n"
     ]
    }
   ],
   "source": [
    "print(list1)# which is greater then 5"
   ]
  },
  {
   "cell_type": "code",
   "execution_count": 71,
   "metadata": {},
   "outputs": [
    {
     "name": "stdout",
     "output_type": "stream",
     "text": [
      "[1, 2, 3, 4, 5]\n"
     ]
    }
   ],
   "source": [
    "print(list2)#which is less then 5"
   ]
  },
  {
   "cell_type": "code",
   "execution_count": null,
   "metadata": {},
   "outputs": [],
   "source": []
  },
  {
   "cell_type": "code",
   "execution_count": 72,
   "metadata": {},
   "outputs": [],
   "source": [
    "list1=[]\n",
    "list2=[]                            # filtring words and letters\n",
    "def myfilter2(seq):\n",
    "    for x in seq:\n",
    "        if x.isalpha():\n",
    "            list1.append(x) ## here letters iam appending to list1\n",
    "        else:\n",
    "            list2.append(x)##here numbers iam appending to list2"
   ]
  },
  {
   "cell_type": "code",
   "execution_count": 73,
   "metadata": {},
   "outputs": [],
   "source": [
    "seq2=\"gopala1234krishna9876\"\n",
    "myfilter2(seq2)"
   ]
  },
  {
   "cell_type": "code",
   "execution_count": 74,
   "metadata": {},
   "outputs": [
    {
     "name": "stdout",
     "output_type": "stream",
     "text": [
      "['g', 'o', 'p', 'a', 'l', 'a', 'k', 'r', 'i', 's', 'h', 'n', 'a']\n"
     ]
    }
   ],
   "source": [
    "print(list1,sep=\",\")## here letters"
   ]
  },
  {
   "cell_type": "code",
   "execution_count": 76,
   "metadata": {},
   "outputs": [
    {
     "name": "stdout",
     "output_type": "stream",
     "text": [
      "['1', '2', '3', '4', '9', '8', '7', '6']\n"
     ]
    }
   ],
   "source": [
    "print(list2)##here numbers"
   ]
  },
  {
   "cell_type": "code",
   "execution_count": null,
   "metadata": {},
   "outputs": [],
   "source": []
  },
  {
   "cell_type": "code",
   "execution_count": null,
   "metadata": {},
   "outputs": [],
   "source": []
  },
  {
   "cell_type": "code",
   "execution_count": null,
   "metadata": {},
   "outputs": [],
   "source": []
  },
  {
   "cell_type": "markdown",
   "metadata": {},
   "source": [
    "###  2  Implement List comprehensions to produce the following lists. \n",
    " \n",
    "Write List comprehensions to produce the following Lists \n",
    " \n",
    "1)['A', 'C', 'A', 'D', 'G', 'I', ’L’, ‘ D’] \n",
    " \n",
    "2)['x', 'xx', 'xxx', 'xxxx', 'y', 'yy', 'yyy', 'yyyy', 'z', 'zz', 'zzz', 'zzzz'] \n",
    " \n",
    "3)['x', 'y', 'z', 'xx', 'yy', 'zz', 'xx', 'yy', 'zz', 'xxxx', 'yyyy', 'zzzz'] \n",
    " \n",
    "4)[[2], [3], [4], [3], [4], [5], [4], [5], [6]] \n",
    " \n",
    "5)[[2, 3, 4, 5], [3, 4, 5, 6], [4, 5, 6, 7], [5, 6, 7, 8]] \n",
    " \n",
    "6)[(1, 1), (2, 1), (3, 1), (1, 2), (2, 2), (3, 2), (1, 3), (2, 3), (3, 3)] "
   ]
  },
  {
   "cell_type": "code",
   "execution_count": 109,
   "metadata": {},
   "outputs": [
    {
     "name": "stdout",
     "output_type": "stream",
     "text": [
      "['A', 'C', 'A', 'D', 'G', 'I', 'L', 'D']\n"
     ]
    }
   ],
   "source": [
    "string = 'ACADGILD'\n",
    "print([x for x in string])"
   ]
  },
  {
   "cell_type": "code",
   "execution_count": 110,
   "metadata": {},
   "outputs": [
    {
     "name": "stdout",
     "output_type": "stream",
     "text": [
      "['A', 'C', 'A', 'D', 'G', 'I', 'L', 'D']\n"
     ]
    }
   ],
   "source": [
    "#['A', 'C', 'A', 'D', 'G', 'I', ’L’, ‘ D’] \n",
    "string = 'ACADGILD'\n",
    "mylist=[]\n",
    "[mylist.append(x) for x in string]\n",
    "print(mylist)"
   ]
  },
  {
   "cell_type": "code",
   "execution_count": 113,
   "metadata": {},
   "outputs": [
    {
     "name": "stdout",
     "output_type": "stream",
     "text": [
      "['A', 'C', 'D', 'G', 'I', 'L']\n"
     ]
    }
   ],
   "source": [
    "string=\"ABCDEFGHIJKLMNOPQRSTUVWXYZ\"\n",
    "z='ACADGILD'\n",
    "print([x for x in string if x in z])"
   ]
  },
  {
   "cell_type": "code",
   "execution_count": null,
   "metadata": {},
   "outputs": [],
   "source": []
  },
  {
   "cell_type": "code",
   "execution_count": 59,
   "metadata": {},
   "outputs": [
    {
     "name": "stdout",
     "output_type": "stream",
     "text": [
      "['x' 'xx' 'xxx' 'xxxx' 'y' 'yy' 'yyy' 'yyyy' 'z' 'zz' 'zzz' 'zzzz']\n"
     ]
    }
   ],
   "source": [
    "#['x', 'xx', 'xxx', 'xxxx', 'y', 'yy', 'yyy', 'yyyy', 'z', 'zz', 'zzz', 'zzzz'] \n",
    "\n",
    "import numpy as np\n",
    "list1=['x','y','z'] \n",
    "print(np.sort([i*x for i in  range(1,5) for x in list1 ]))"
   ]
  },
  {
   "cell_type": "code",
   "execution_count": 78,
   "metadata": {},
   "outputs": [
    {
     "name": "stdout",
     "output_type": "stream",
     "text": [
      "['x', 'y', 'z', 'xx', 'yy', 'zz', 'xx', 'yy', 'zz', 'xxxx', 'yyyy', 'zzzz']\n"
     ]
    }
   ],
   "source": [
    "#['x', 'y', 'z', 'xx', 'yy', 'zz', 'xx', 'yy', 'zz', 'xxxx', 'yyyy', 'zzzz']\n",
    "\n",
    "import numpy as np\n",
    "list1=['x','y','z'] \n",
    "print([i*x  for i in  range(1,3) for x in list1 ]+[i*x*2 for i in  range(1,3) for x in list1])\n"
   ]
  },
  {
   "cell_type": "code",
   "execution_count": null,
   "metadata": {},
   "outputs": [],
   "source": []
  },
  {
   "cell_type": "code",
   "execution_count": 98,
   "metadata": {},
   "outputs": [
    {
     "name": "stdout",
     "output_type": "stream",
     "text": [
      "[[2], [3], [4], [3], [4], [5], [4], [5], [6]]\n"
     ]
    }
   ],
   "source": [
    "# [[2], [3], [4], [3], [4], [5], [4], [5], [6]] \n",
    "s=[2,3,4,3,4,5,4,5,6]\n",
    "s2=[]\n",
    "[s2.append([x]) for x in s]\n",
    "print(s2)"
   ]
  },
  {
   "cell_type": "code",
   "execution_count": null,
   "metadata": {},
   "outputs": [],
   "source": []
  },
  {
   "cell_type": "code",
   "execution_count": null,
   "metadata": {},
   "outputs": [],
   "source": [
    "# [[2, 3, 4, 5], [3, 4, 5, 6], [4, 5, 6, 7], [5, 6, 7, 8]]"
   ]
  },
  {
   "cell_type": "code",
   "execution_count": 304,
   "metadata": {},
   "outputs": [
    {
     "name": "stdout",
     "output_type": "stream",
     "text": [
      "[[2, 3, 4, 5], [3, 4, 5, 6], [4, 5, 6, 7], [5, 6, 7, 8]]\n"
     ]
    }
   ],
   "source": [
    "mylist=[2,3,4,5,6,7,8]\n",
    "mylist2=[]\n",
    "[mylist2.append(mylist[i:4+i]) for i in range(0,4)]\n",
    "print(mylist2[0:4])"
   ]
  },
  {
   "cell_type": "code",
   "execution_count": null,
   "metadata": {},
   "outputs": [],
   "source": []
  },
  {
   "cell_type": "code",
   "execution_count": null,
   "metadata": {},
   "outputs": [],
   "source": [
    "#[(1, 1), (2, 1), (3, 1), (1, 2), (2, 2), (3, 2), (1, 3), (2, 3), (3, 3)]"
   ]
  },
  {
   "cell_type": "code",
   "execution_count": 303,
   "metadata": {},
   "outputs": [
    {
     "name": "stdout",
     "output_type": "stream",
     "text": [
      "[(1, 1), (2, 1), (3, 1), (1, 2), (2, 2), (3, 2), (1, 3), (2, 3), (3, 3)]\n"
     ]
    }
   ],
   "source": [
    "print([tuple([i,x])  for x in [1,2,3]  for i in  [1,2,3]])"
   ]
  },
  {
   "cell_type": "code",
   "execution_count": null,
   "metadata": {},
   "outputs": [],
   "source": []
  },
  {
   "cell_type": "markdown",
   "metadata": {},
   "source": [
    "###  3 Implement a function longestWord() that takes a list of words and returns the longest one. "
   ]
  },
  {
   "cell_type": "code",
   "execution_count": 2,
   "metadata": {},
   "outputs": [
    {
     "name": "stdout",
     "output_type": "stream",
     "text": [
      "enter number of words you want to add to your words list:--5\n",
      "enter your wards for adding to list:---a\n",
      "enter your wards for adding to list:---ab\n",
      "enter your wards for adding to list:---abc\n",
      "enter your wards for adding to list:---abcd\n",
      "enter your wards for adding to list:---abcdef\n",
      "-----------------------\n",
      "total words in your list is 5\n",
      " those words are ['a', 'ab', 'abc', 'abcd', 'abcdef'] \n",
      " the longest word in your wordslist:-abcdef\n"
     ]
    }
   ],
   "source": [
    "def longestword():\n",
    "    n=int(input(\"enter number of words you want to add to your words list:--\"))\n",
    "    mywords_list=[]\n",
    "    for x in range(n):\n",
    "        mywords_list.append(input(\"enter your wards for adding to list:---\"))\n",
    "    longestword=max(mywords_list)\n",
    "    print('-----------------------')\n",
    "    return print(\"total words in your list is {}\\n those words are {} \\n the longest word in your wordslist:-{}\".format(n,mywords_list,longestword))\n",
    "longestword()  "
   ]
  },
  {
   "cell_type": "code",
   "execution_count": null,
   "metadata": {},
   "outputs": [],
   "source": []
  },
  {
   "cell_type": "markdown",
   "metadata": {},
   "source": [
    "# Task 2:"
   ]
  },
  {
   "cell_type": "markdown",
   "metadata": {},
   "source": [
    "###  1.1 Write a Python Program(with class concepts) to find the area of the triangle using the below formula. \n",
    " \n",
    "area = (s*(s-a)*(s-b)*(s-c)) ** 0.5 \n",
    " \n",
    "Function to take the length of the sides of triangle from user should be defined in the parent class and function to calculate the area should be defined in subclass. "
   ]
  },
  {
   "cell_type": "code",
   "execution_count": 108,
   "metadata": {},
   "outputs": [
    {
     "name": "stdout",
     "output_type": "stream",
     "text": [
      "enetrside a -2\n",
      "enetrside b -3\n",
      "enetrside c -4\n",
      "the area of your trainage is 2.9047375096555625\n"
     ]
    }
   ],
   "source": [
    "class sides_of_triangle():\n",
    "    def __init__(self,a,b,c,s=0):                                     # parrent class\n",
    "        self.a=a\n",
    "        self.b=b\n",
    "        self.c=c\n",
    "        self.s=(self.a+self.b+self.c)/2                               # s is semi-perimeter of the triangle = (a+b+c) / 2\n",
    "\n",
    "        \n",
    "class area_of_triangle(sides_of_triangle):                           # subclass or chaild class\n",
    "    def display_result(self):\n",
    "        import numpy as np\n",
    "        Area = np.sqrt((self.s*(self.s-self.a)*(self.s-self.b)*(self.s-self.c)))  #  Area= √s(s−a)(s−b)(s−c).\n",
    "        return print('the area of your trainage is',Area)\n",
    "\n",
    "a=eval(input(\"enetrside a -\"))\n",
    "b=eval(input(\"enetrside b -\"))\n",
    "c=eval(input(\"enetrside c -\"))\n",
    "object=area_of_triangle(a,b,c)    \n",
    "object.display_result()"
   ]
  },
  {
   "cell_type": "code",
   "execution_count": null,
   "metadata": {},
   "outputs": [],
   "source": []
  },
  {
   "cell_type": "markdown",
   "metadata": {},
   "source": [
    "#### 1.2  Write a function filter_long_words() that takes a list of words and an integer n and returns the list of words that are longer than n. "
   ]
  },
  {
   "cell_type": "code",
   "execution_count": 77,
   "metadata": {},
   "outputs": [],
   "source": [
    "def filter_long_words( list_of_words, integer_n):\n",
    "    long_words_list_then_n=[]\n",
    "    for x in list_of_words:\n",
    "        if len(x)>integer_n:\n",
    "            long_words_list_then_n.append(x)\n",
    "    if len(long_words_list_then_n)==0:\n",
    "                print(\"no words are grater then your n\")\n",
    "    else:\n",
    "        return print('n={} \\nthese wordsare longerword in your list then you enetrd n value:-{}'.format(integer_n ,long_words_list_then_n))\n",
    "  "
   ]
  },
  {
   "cell_type": "code",
   "execution_count": 79,
   "metadata": {},
   "outputs": [
    {
     "name": "stdout",
     "output_type": "stream",
     "text": [
      "eneter your number:-2\n",
      "n=2 \n",
      "these wordsare longerword in your list then you enetrd n value:-['gopala', 'hai', 'bye', 'good', 'ramu', 'hyderabad']\n"
     ]
    }
   ],
   "source": [
    "list_of_words=['gopala','hai','bye','good','ramu','hyderabad']\n",
    "integer_n=int(input(\"eneter your number:-\"))\n",
    "filter_long_words(list_of_words,integer_n)"
   ]
  },
  {
   "cell_type": "code",
   "execution_count": null,
   "metadata": {},
   "outputs": [],
   "source": []
  },
  {
   "cell_type": "markdown",
   "metadata": {},
   "source": [
    "####  2.1 Write a Python program using function concept that maps  list of words into a list of integers representing the lengths of the corresponding words​. \n",
    " Hint: ​If a list [ ab,cde,erty] is passed on to the python function output should come as [2,3,4] \n",
    " Here 2,3 and 4 are the lengths of the words in the list. "
   ]
  },
  {
   "cell_type": "code",
   "execution_count": 41,
   "metadata": {},
   "outputs": [],
   "source": [
    "def map(words_list):\n",
    "    mylist=[]\n",
    "    for x in words_list:\n",
    "        lenth=len(x)\n",
    "        mylist.append(lenth)\n",
    "    return print( 'your words are;-{} \\n list of words lengths:- {}'.format(words_list,mylist))"
   ]
  },
  {
   "cell_type": "code",
   "execution_count": 81,
   "metadata": {},
   "outputs": [
    {
     "name": "stdout",
     "output_type": "stream",
     "text": [
      "your words are;-['a', 'abc', 'abcdef', 'abcdghi', 'abcdjade', 'abcdefghinj', 'agste'] \n",
      " list of words lengths:- [1, 3, 6, 7, 8, 11, 5]\n"
     ]
    }
   ],
   "source": [
    "words_list=[\"a\",'abc','abcdef','abcdghi','abcdjade','abcdefghinj','agste']\n",
    "map(words_list)"
   ]
  },
  {
   "cell_type": "code",
   "execution_count": null,
   "metadata": {},
   "outputs": [],
   "source": []
  },
  {
   "cell_type": "markdown",
   "metadata": {},
   "source": [
    "####  2.2  Write a Python function which takes a character (i.e. a string of length 1) and returns True if it is a vowel, False otherwise. "
   ]
  },
  {
   "cell_type": "code",
   "execution_count": 63,
   "metadata": {},
   "outputs": [],
   "source": [
    "def checking_vowel(character):\n",
    "    volwels=['a','e','i','o','u']\n",
    "    if character in volwels:\n",
    "        return print('your are enetered character is:---{} so yes it is vowel so answer is :-{}'.format(character,True))\n",
    "    else:\n",
    "        return print('your are enetered character is:----{} so  it is not  vowel so answer is:-{}'.format(character,False))"
   ]
  },
  {
   "cell_type": "code",
   "execution_count": 64,
   "metadata": {},
   "outputs": [
    {
     "name": "stdout",
     "output_type": "stream",
     "text": [
      "eneter charactera\n",
      "your are enetered character is:---a so yes it is vowel so answer is :-True\n"
     ]
    }
   ],
   "source": [
    "character=input(\"eneter character\")\n",
    "checking_vowel(character)"
   ]
  },
  {
   "cell_type": "code",
   "execution_count": null,
   "metadata": {},
   "outputs": [],
   "source": []
  },
  {
   "cell_type": "code",
   "execution_count": null,
   "metadata": {},
   "outputs": [],
   "source": []
  },
  {
   "cell_type": "code",
   "execution_count": null,
   "metadata": {},
   "outputs": [],
   "source": []
  },
  {
   "cell_type": "code",
   "execution_count": null,
   "metadata": {},
   "outputs": [],
   "source": [
    "##### thanks \n",
    "name:-gopalakrishna\n",
    "contact:-9652320676"
   ]
  },
  {
   "cell_type": "code",
   "execution_count": null,
   "metadata": {},
   "outputs": [],
   "source": []
  }
 ],
 "metadata": {
  "kernelspec": {
   "display_name": "Python 3",
   "language": "python",
   "name": "python3"
  },
  "language_info": {
   "codemirror_mode": {
    "name": "ipython",
    "version": 3
   },
   "file_extension": ".py",
   "mimetype": "text/x-python",
   "name": "python",
   "nbconvert_exporter": "python",
   "pygments_lexer": "ipython3",
   "version": "3.7.3"
  }
 },
 "nbformat": 4,
 "nbformat_minor": 2
}
